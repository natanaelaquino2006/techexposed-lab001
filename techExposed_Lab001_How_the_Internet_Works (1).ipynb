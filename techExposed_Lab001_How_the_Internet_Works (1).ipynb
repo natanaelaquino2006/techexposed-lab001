{
  "cells": [
    {
      "cell_type": "markdown",
      "id": "94d5dbe1",
      "metadata": {
        "id": "94d5dbe1"
      },
      "source": [
        "# 🧠 techExposed Lab #001: How the Internet Works\n",
        "\n",
        "**Lab Type:** Idea  \n",
        "**Estimated Time:** 30–45 mins  \n",
        "**Skill Level:** Beginner"
      ]
    },
    {
      "cell_type": "code",
      "execution_count": null,
      "id": "7a331ad1",
      "metadata": {
        "id": "7a331ad1",
        "colab": {
          "base_uri": "https://localhost:8080/"
        },
        "outputId": "79906ab5-3dba-4675-b82a-bca1a495831b"
      },
      "outputs": [
        {
          "output_type": "stream",
          "name": "stdout",
          "text": [
            "Welcome to the lab, Natanael aquino!\n"
          ]
        }
      ],
      "source": [
        "# Let's begin by printing your name to personalize the notebook = \"\"\n",
        "print(f\"Welcome to the lab, {'Natanael aquino'}!\")"
      ]
    },
    {
      "cell_type": "markdown",
      "id": "09a1a96a",
      "metadata": {
        "id": "09a1a96a"
      },
      "source": [
        "## 🔍 STAR Method Lab Prompt\n",
        "\n",
        "**Situation:**  \n",
        "[What technical system are you breaking down? Why is it misunderstood?]\n",
        "\n",
        "**Task:**  \n",
        "[What are you trying to explain or simulate?]\n",
        "\n",
        "**Action:**  \n",
        "[How will you use Gemini, markdown, and visual explanation to simplify the system?]\n",
        "\n",
        "**Expected Result:**  \n",
        "[An understandable explanation or MVP that shows how it works.]"
      ]
    },
    {
      "cell_type": "markdown",
      "id": "bc3a7bb9",
      "metadata": {
        "id": "bc3a7bb9"
      },
      "source": [
        "## ✍️ Your Assignment\n",
        "\n",
        "_Use this section to complete your deliverable:_\n",
        "\n",
        "```markdown\n",
        "(Example Format)\n",
        "\n",
        "- **Technology Explored**: Internet stack (DNS → IP → HTTP → Hosting)  \n",
        "- **STAR Output**:  \n",
        "   - S: Many users don’t understand why websites break or load slowly  \n",
        "   - T: Create a visual explanation of the internet layers  \n",
        "   - A: Used Gemini to model DNS + CDN + request cycle  \n",
        "   - R: Built a one-pager with diagrams explaining internet flow  \n",
        "```"
      ]
    },
    {
      "cell_type": "markdown",
      "metadata": {
        "id": "21bcd6d2"
      },
      "source": [
        "# Task\n",
        "Explain a complex technical system (like DNS, CI/CD, or feature flag deployment) using the STAR method, starting with a real-world pain point, and making it understandable to a new developer or student as if they were a 10-year-old, acting as a technical explainer with 20+ years of experience."
      ],
      "id": "21bcd6d2"
    },
    {
      "cell_type": "markdown",
      "metadata": {
        "id": "762b3513"
      },
      "source": [
        "## Choose a complex system\n",
        "\n",
        "### Subtask:\n",
        "Select a technical concept (like DNS, CI/CD, or feature flag deployment) that is often misunderstood.\n"
      ],
      "id": "762b3513"
    },
    {
      "cell_type": "markdown",
      "metadata": {
        "id": "ab94ada6"
      },
      "source": [
        "**Reasoning**:\n",
        "Choose a technical concept and explain why it's often misunderstood.\n",
        "\n"
      ],
      "id": "ab94ada6"
    },
    {
      "cell_type": "markdown",
      "metadata": {
        "id": "ffb6b077"
      },
      "source": [
        "## ✍️ Your Assignment\n",
        "\n",
        "*Use this section to complete your deliverable:*\n",
        "\n",
        "- **Technology Explored**: CI/CD (Continuous Integration/Continuous Deployment)\n",
        "- **STAR Output**:\n",
        "  - **Situation:**\n",
        "    A new developer just finished writing some code to fix a bug. They manually build the application on their machine, test it locally, and everything seems to work fine. They then directly deploy their code to the staging environment. However, shortly after deployment, other parts of the application start failing unexpectedly. It turns out their changes introduced new bugs because some automated tests that would have caught the issue were not run, and the deployment process was not consistent, leading to configuration problems in the staging environment that weren't present locally. This causes delays, frustration, and requires rolling back the changes.\n",
        "  - **Task:**\n",
        "    Explain how CI/CD helps prevent the described pain point by automating the build, test, and deployment processes, ensuring consistent and reliable software delivery. The goal is to make a new developer or student understand the basic flow and benefits of CI/CD as if they were a 10-year-old.\n",
        "  - **Action:**\n",
        "    Use markdown and simple analogies (e.g., comparing the CI/CD pipeline to an assembly line or a series of checkpoints before releasing a toy) to explain the different stages of CI/CD (commit, build, test, deploy). Potentially use simple diagrams (described in markdown) to visualize the flow. Act as a technical explainer with 20+ years of experience, simplifying complex concepts into easily digestible parts.\n",
        "  - **Expected Result:**\n",
        "    A beginner understands the basic concepts and benefits of CI/CD, specifically how it addresses the pain point of inconsistent deployments and missed bugs by providing an automated, repeatable process for getting code changes from a developer's computer to a running application. They should be able to explain, in simple terms, what happens at each major stage of a CI/CD pipeline.\n",
        "\n",
        "---\n",
        "\n",
        "Okay team, gather 'round! Let's talk about something super important that helps us build cool stuff way better.\n",
        "\n",
        "Remember that time when we tried to put that new feature out, and suddenly everything broke because something was missed? Yeah, that was a bit of a mess, right? It felt like we were trying to build a LEGO castle blindfolded! Sometimes things would fit, and sometimes... well, they wouldn't, and the whole thing would tumble down.\n",
        "\n",
        "Imagine building that awesome LEGO castle, but instead of just grabbing random pieces and hoping for the best, you have a super-smart, step-by-step plan, like an **assembly line** for building your code! That's kind of what **CI/CD** is all about. Think of CI/CD as our amazing **Code Construction Crew** that makes sure every piece fits perfectly before we show off our creation.\n",
        "\n",
        "**CI/CD** stands for **Continuous Integration** and **Continuous Deployment**. Don't let the big words scare you; it just means we're constantly adding our new code (Integration) and then getting it ready to be used by everyone (Deployment) in a smooth, automatic way.\n",
        "\n",
        "Here's how our Code Construction Crew (CI/CD) works, step-by-step, like building that LEGO castle on an assembly line:"
      ],
      "id": "ffb6b077"
    },
    {
      "cell_type": "markdown",
      "metadata": {
        "id": "18c136b4"
      },
      "source": [
        "[Built Code] --send for checks--> [Automatic Tests]\n",
        "                     |\n",
        "                     |-- Check small pieces (Unit Tests)\n",
        "                     |-- Check if pieces fit together (Integration Tests)\n",
        "                     |-- Check for wobbly bits (Other Checks)\n",
        "                     |\n",
        "                     v\n",
        "              [Check Results] -- All Good? --> Continue to Packaging\n",
        "                           -- Something Wrong? --> Tell you to Fix it!"
      ],
      "id": "18c136b4"
    },
    {
      "cell_type": "markdown",
      "metadata": {
        "id": "e77b1b25"
      },
      "source": [
        "[Boxed Application] --Put in--> [Practice Room (Staging)]\n",
        "             |\n",
        "             | (After final checks pass)\n",
        "             v\n",
        "[Practice Room (Staging)] --Put in--> [Real Display (Production)]"
      ],
      "id": "e77b1b25"
    },
    {
      "cell_type": "code",
      "source": [],
      "metadata": {
        "id": "H6wppu20Fcf7"
      },
      "id": "H6wppu20Fcf7",
      "execution_count": null,
      "outputs": []
    },
    {
      "cell_type": "markdown",
      "metadata": {
        "id": "c728d661"
      },
      "source": [
        "- **Technology Explored**: CI/CD (Continuous Integration/Continuous Deployment)\n",
        "- **STAR Output**:\n",
        "  - **S:** A new developer introduces bugs by manually building and deploying code without automated testing and a consistent process, leading to application failures in staging.\n",
        "  - **T:** Explain how CI/CD prevents this pain point through automated build, test, and deployment processes for reliable software delivery.\n",
        "  - **A:** Use markdown and simple analogies like an assembly line to explain the CI/CD stages (commit, build, test, deploy) for a beginner, acting as an experienced technical explainer.\n",
        "  - **R:** A beginner understands the basic concepts and benefits of CI/CD, specifically how it addresses inconsistent deployments and missed bugs with an automated, repeatable process. They can explain the major stages of a CI/CD pipeline in simple terms."
      ],
      "id": "c728d661"
    }
  ],
  "metadata": {
    "colab": {
      "provenance": []
    },
    "language_info": {
      "name": "python"
    },
    "kernelspec": {
      "name": "python3",
      "display_name": "Python 3"
    }
  },
  "nbformat": 4,
  "nbformat_minor": 5
}