{
 "cells": [
  {
   "cell_type": "markdown",
   "id": "94d5dbe1",
   "metadata": {},
   "source": [
    "# 🧠 techExposed Lab #001: How the Internet Works\n",
    "\n",
    "**Lab Type:** Idea  \n",
    "**Estimated Time:** 30–45 mins  \n",
    "**Skill Level:** Beginner"
   ]
  },
  {
   "cell_type": "code",
   "execution_count": null,
   "id": "7a331ad1",
   "metadata": {},
   "outputs": [],
   "source": [
    "# Let's begin by printing your name to personalize the notebook\n",
    "your_name = \"\"\n",
    "print(f\"Welcome to the lab, {your_name}!\")"
   ]
  },
  {
   "cell_type": "markdown",
   "id": "09a1a96a",
   "metadata": {},
   "source": [
    "## 🔍 STAR Method Lab Prompt\n",
    "\n",
    "**Situation:**  \n",
    "[What technical system are you breaking down? Why is it misunderstood?]\n",
    "\n",
    "**Task:**  \n",
    "[What are you trying to explain or simulate?]\n",
    "\n",
    "**Action:**  \n",
    "[How will you use Gemini, markdown, and visual explanation to simplify the system?]\n",
    "\n",
    "**Expected Result:**  \n",
    "[An understandable explanation or MVP that shows how it works.]"
   ]
  },
  {
   "cell_type": "markdown",
   "id": "bc3a7bb9",
   "metadata": {},
   "source": [
    "## ✍️ Your Assignment\n",
    "\n",
    "_Use this section to complete your deliverable:_\n",
    "\n",
    "```markdown\n",
    "(Example Format)\n",
    "\n",
    "- **Technology Explored**: Internet stack (DNS → IP → HTTP → Hosting)  \n",
    "- **STAR Output**:  \n",
    "   - S: Many users don’t understand why websites break or load slowly  \n",
    "   - T: Create a visual explanation of the internet layers  \n",
    "   - A: Used Gemini to model DNS + CDN + request cycle  \n",
    "   - R: Built a one-pager with diagrams explaining internet flow  \n",
    "```"
   ]
  }
 ],
 "metadata": {},
 "nbformat": 4,
 "nbformat_minor": 5
}
